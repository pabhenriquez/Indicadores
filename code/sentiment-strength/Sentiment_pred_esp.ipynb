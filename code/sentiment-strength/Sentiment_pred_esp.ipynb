{
 "cells": [
  {
   "cell_type": "code",
   "execution_count": 1,
   "id": "4bbd7c31",
   "metadata": {},
   "outputs": [],
   "source": [
    "from pysentimiento.preprocessing import preprocess_tweet\n",
    "from pysentimiento import create_analyzer\n",
    "import pandas as pd\n",
    "import torch\n",
    "import numpy as np\n",
    "import csv\n",
    "import urllib.request\n",
    "import glob"
   ]
  },
  {
   "cell_type": "code",
   "execution_count": 2,
   "id": "a3e66d35",
   "metadata": {},
   "outputs": [],
   "source": [
    "\n",
    "analyzer = create_analyzer(task=\"sentiment\", lang=\"es\")\n"
   ]
  },
  {
   "cell_type": "code",
   "execution_count": 7,
   "id": "c0d9963e",
   "metadata": {},
   "outputs": [],
   "source": [
    "# Carpetas\n",
    "INFLUENCERS_PATH = '../../data/incendios_2023/influencers/'\n",
    "MEDIA_PATH = '../../data/incendios_2023/prensa_escrita/'\n",
    "TV_PATH = '../../data/covid/television/'\n"
   ]
  },
  {
   "cell_type": "code",
   "execution_count": 22,
   "id": "4ac93cbd",
   "metadata": {},
   "outputs": [
    {
     "name": "stdout",
     "output_type": "stream",
     "text": [
      "ayala_rodolfo\n",
      "Cachoescalona1\n",
      "camilaemiliasv\n",
      "CapuchaCreativa\n",
      "Chileno17039890\n",
      "JackoProu\n",
      "MrRangerR1\n",
      "rsumen\n",
      "SpreenDMC\n"
     ]
    }
   ],
   "source": [
    "\n",
    "for file in glob.glob(INFLUENCERS_PATH+'/*.csv'):\n",
    "\n",
    "    user_df = pd.read_csv(file)\n",
    "    username = user_df['username'].unique()[0]\n",
    "    print(username)\n",
    "    \n",
    "    for index, row in user_df.iterrows():\n",
    "        tweet = row['tweet']\n",
    "        tweet = preprocess_tweet(tweet)\n",
    "\n",
    "        # Calculate sentiment\n",
    "        sentiment_output = analyzer.predict(tweet)\n",
    "        for sentiment_label in sentiment_output.probas:\n",
    "            user_df.at[index, sentiment_label] = np.round(sentiment_output.probas[sentiment_label], 6)\n",
    "        user_df.at[index, \"sentimiento\"] = sentiment_output.output\n",
    "    \n",
    "    user_df.to_csv('../../data/incendios_2023/con_sentimientos/influencers/'+username+'.csv', index=False)"
   ]
  },
  {
   "cell_type": "code",
   "execution_count": 24,
   "id": "51d83526",
   "metadata": {},
   "outputs": [
    {
     "name": "stdout",
     "output_type": "stream",
     "text": [
      "adnradiochile\n",
      "biobio\n",
      "Cooperativa\n",
      "eldesconcierto\n",
      "elmostrador\n",
      "InterferenciaCL\n",
      "latercera\n",
      "PublimetroChile\n",
      "Tele13_Radio\n",
      "thecliniccl\n"
     ]
    }
   ],
   "source": [
    "for file in glob.glob(MEDIA_PATH+'/*.csv'):\n",
    "\n",
    "    user_df = pd.read_csv(file)\n",
    "    if (user_df.shape[0] == 0):\n",
    "        print(\"Cuenta nueva\")\n",
    "        continue\n",
    "    username = user_df['username'].unique()[0]\n",
    "    print(username)\n",
    "    \n",
    "\n",
    "    for index, row in user_df.iterrows():\n",
    "        tweet = row['tweet']\n",
    "        tweet = preprocess_tweet(tweet)\n",
    "\n",
    "        # Calculate sentiment\n",
    "        sentiment_output = analyzer.predict(tweet)\n",
    "        for sentiment_label in sentiment_output.probas:\n",
    "            user_df.at[index, sentiment_label] = np.round(sentiment_output.probas[sentiment_label], 6)\n",
    "        user_df.at[index, \"sentimiento\"] = sentiment_output.output\n",
    "\n",
    "    user_df.to_csv('../../data/incendios_2023/con_sentimientos/prensa_escrita/'+username+'.csv', index=False)"
   ]
  },
  {
   "cell_type": "code",
   "execution_count": null,
   "id": "ccf2f9bf",
   "metadata": {},
   "outputs": [
    {
     "name": "stdout",
     "output_type": "stream",
     "text": [
      "24HorasTVN\n",
      "CHVNoticias\n",
      "CNNChile\n"
     ]
    }
   ],
   "source": [
    "for file in glob.glob(TV_PATH+'/*.csv'):\n",
    "\n",
    "    user_df = pd.read_csv(file)\n",
    "    username = user_df['username'].unique()[0]\n",
    "    print(username)\n",
    "\n",
    "    for index, row in user_df.iterrows():\n",
    "        tweet = row['tweet']\n",
    "        tweet = preprocess_tweet(tweet)\n",
    "\n",
    "        # Calculate sentiment\n",
    "        sentiment_output = analyzer.predict(tweet)\n",
    "        for sentiment_label in sentiment_output.probas:\n",
    "            user_df.at[index, sentiment_label] = np.round(sentiment_output.probas[sentiment_label], 6)\n",
    "        user_df.at[index, \"sentimiento\"] = sentiment_output.output\n",
    "\n",
    "        user_df.to_csv('../../data/covid/con_sentimientos/television/'+username+'.csv', index=False)"
   ]
  },
  {
   "cell_type": "code",
   "execution_count": 18,
   "id": "71815932",
   "metadata": {},
   "outputs": [
    {
     "data": {
      "text/plain": [
       "'adnradiochile'"
      ]
     },
     "metadata": {},
     "output_type": "display_data"
    },
    {
     "data": {
      "text/plain": [
       "'biobio'"
      ]
     },
     "metadata": {},
     "output_type": "display_data"
    },
    {
     "data": {
      "text/plain": [
       "'Cooperativa'"
      ]
     },
     "metadata": {},
     "output_type": "display_data"
    },
    {
     "data": {
      "text/plain": [
       "'eldesconcierto'"
      ]
     },
     "metadata": {},
     "output_type": "display_data"
    },
    {
     "data": {
      "text/plain": [
       "'elmostrador'"
      ]
     },
     "metadata": {},
     "output_type": "display_data"
    },
    {
     "name": "stdout",
     "output_type": "stream",
     "text": [
      "Cuenta nueva\n"
     ]
    },
    {
     "data": {
      "text/plain": [
       "'latercera'"
      ]
     },
     "metadata": {},
     "output_type": "display_data"
    },
    {
     "data": {
      "text/plain": [
       "'PublimetroChile'"
      ]
     },
     "metadata": {},
     "output_type": "display_data"
    },
    {
     "data": {
      "text/plain": [
       "'Tele13_Radio'"
      ]
     },
     "metadata": {},
     "output_type": "display_data"
    },
    {
     "data": {
      "text/plain": [
       "'thecliniccl'"
      ]
     },
     "metadata": {},
     "output_type": "display_data"
    }
   ],
   "source": [
    "for file in glob.glob(MEDIA_PATH+'/*.csv'):\n",
    "\n",
    "    user_df = pd.read_csv(file)\n",
    "    if (user_df.shape[0] == 0):\n",
    "        print(\"Cuenta nueva\")\n",
    "        continue\n",
    "    display(user_df[\"username\"][0])"
   ]
  },
  {
   "cell_type": "code",
   "execution_count": 32,
   "id": "6f4e502e",
   "metadata": {},
   "outputs": [
    {
     "data": {
      "text/plain": [
       "array([[  0,   0,   0,   0,   0,   0],\n",
       "       [  0,   0,   0,   0,   0,   0],\n",
       "       [  0,   0,   0,   0,   0,   0],\n",
       "       [ 35,   7,   0,   0,   0,   0],\n",
       "       [ 34, 168,  73,   0,   0,   0],\n",
       "       [  4,  37, 142,   0,   0,   0]], dtype=int64)"
      ]
     },
     "execution_count": 32,
     "metadata": {},
     "output_type": "execute_result"
    }
   ],
   "source": []
  },
  {
   "cell_type": "code",
   "execution_count": null,
   "id": "b3b9380a",
   "metadata": {},
   "outputs": [],
   "source": []
  }
 ],
 "metadata": {
  "kernelspec": {
   "display_name": "Python 3 (ipykernel)",
   "language": "python",
   "name": "python3"
  },
  "language_info": {
   "codemirror_mode": {
    "name": "ipython",
    "version": 3
   },
   "file_extension": ".py",
   "mimetype": "text/x-python",
   "name": "python",
   "nbconvert_exporter": "python",
   "pygments_lexer": "ipython3",
   "version": "3.9.12"
  }
 },
 "nbformat": 4,
 "nbformat_minor": 5
}
